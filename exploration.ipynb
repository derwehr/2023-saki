{
 "cells": [
  {
   "attachments": {},
   "cell_type": "markdown",
   "metadata": {},
   "source": [
    "# Data Exploration\n",
    "\n",
    "This notebook describes the data exploration steps."
   ]
  },
  {
   "attachments": {},
   "cell_type": "markdown",
   "metadata": {},
   "source": [
    "## Install dependencies"
   ]
  },
  {
   "cell_type": "code",
   "execution_count": 3,
   "metadata": {},
   "outputs": [
    {
     "name": "stdout",
     "output_type": "stream",
     "text": [
      "Defaulting to user installation because normal site-packages is not writeable\n",
      "Requirement already satisfied: geocoder==1.38.1 in /home/wehr/.local/lib/python3.10/site-packages (from -r data/requirements.txt (line 1)) (1.38.1)\n",
      "Requirement already satisfied: meteostat==1.6.5 in /home/wehr/.local/lib/python3.10/site-packages (from -r data/requirements.txt (line 2)) (1.6.5)\n",
      "Requirement already satisfied: numpy==1.21.5 in /usr/lib/python3/dist-packages (from -r data/requirements.txt (line 3)) (1.21.5)\n",
      "Requirement already satisfied: pandas==2.0.1 in /home/wehr/.local/lib/python3.10/site-packages (from -r data/requirements.txt (line 4)) (2.0.1)\n",
      "Requirement already satisfied: requests_cache==1.0.1 in /home/wehr/.local/lib/python3.10/site-packages (from -r data/requirements.txt (line 5)) (1.0.1)\n",
      "Requirement already satisfied: future in /usr/lib/python3/dist-packages (from geocoder==1.38.1->-r data/requirements.txt (line 1)) (0.18.2)\n",
      "Requirement already satisfied: click in /usr/lib/python3/dist-packages (from geocoder==1.38.1->-r data/requirements.txt (line 1)) (8.0.3)\n",
      "Requirement already satisfied: requests in /usr/lib/python3/dist-packages (from geocoder==1.38.1->-r data/requirements.txt (line 1)) (2.25.1)\n",
      "Requirement already satisfied: six in /home/wehr/.local/lib/python3.10/site-packages (from geocoder==1.38.1->-r data/requirements.txt (line 1)) (1.16.0)\n",
      "Requirement already satisfied: ratelim in /home/wehr/.local/lib/python3.10/site-packages (from geocoder==1.38.1->-r data/requirements.txt (line 1)) (0.1.6)\n",
      "Requirement already satisfied: pytz in /usr/lib/python3/dist-packages (from meteostat==1.6.5->-r data/requirements.txt (line 2)) (2022.1)\n",
      "Requirement already satisfied: tzdata>=2022.1 in /home/wehr/.local/lib/python3.10/site-packages (from pandas==2.0.1->-r data/requirements.txt (line 4)) (2023.3)\n",
      "Requirement already satisfied: python-dateutil>=2.8.2 in /home/wehr/.local/lib/python3.10/site-packages (from pandas==2.0.1->-r data/requirements.txt (line 4)) (2.8.2)\n",
      "Requirement already satisfied: url-normalize>=1.4 in /home/wehr/.local/lib/python3.10/site-packages (from requests_cache==1.0.1->-r data/requirements.txt (line 5)) (1.4.3)\n",
      "Requirement already satisfied: attrs>=21.2 in /usr/lib/python3/dist-packages (from requests_cache==1.0.1->-r data/requirements.txt (line 5)) (21.2.0)\n",
      "Requirement already satisfied: cattrs>=22.2 in /home/wehr/.local/lib/python3.10/site-packages (from requests_cache==1.0.1->-r data/requirements.txt (line 5)) (22.2.0)\n",
      "Requirement already satisfied: urllib3>=1.25.5 in /usr/lib/python3/dist-packages (from requests_cache==1.0.1->-r data/requirements.txt (line 5)) (1.26.5)\n",
      "Requirement already satisfied: platformdirs>=2.5 in /home/wehr/.local/lib/python3.10/site-packages (from requests_cache==1.0.1->-r data/requirements.txt (line 5)) (3.5.1)\n",
      "Requirement already satisfied: exceptiongroup in /home/wehr/.local/lib/python3.10/site-packages (from cattrs>=22.2->requests_cache==1.0.1->-r data/requirements.txt (line 5)) (1.1.1)\n",
      "Requirement already satisfied: decorator in /home/wehr/.local/lib/python3.10/site-packages (from ratelim->geocoder==1.38.1->-r data/requirements.txt (line 1)) (5.1.1)\n",
      "Note: you may need to restart the kernel to use updated packages.\n"
     ]
    }
   ],
   "source": [
    "%pip install -r data/requirements.txt"
   ]
  },
  {
   "attachments": {},
   "cell_type": "markdown",
   "metadata": {},
   "source": [
    "## Load data"
   ]
  },
  {
   "cell_type": "code",
   "execution_count": 48,
   "metadata": {},
   "outputs": [],
   "source": [
    "import pandas as pd\n",
    "\n",
    "df = pd.read_sql_table('offenses', 'sqlite:///data/data.sqlite')"
   ]
  },
  {
   "attachments": {},
   "cell_type": "markdown",
   "metadata": {},
   "source": [
    "### Dataset\n",
    "Below, you can see the dataset. The available columns are:\n",
    "- `exceedance`: The exceedance of the speed limit in km/h\n",
    "- `datetime`: The date and time of the offense\n",
    "- `lat`: The latitude of the offense\n",
    "- `lon`: The longitude of the offense\n",
    "- `temperature`: The temperature at the offense location at the offense time\n",
    "- `precipitation`: The precipitation at the offense location at the offense time\n",
    "- `wind speed`: The wind speed at the offense location at the offense time"
   ]
  },
  {
   "cell_type": "code",
   "execution_count": 3,
   "metadata": {},
   "outputs": [
    {
     "data": {
      "text/html": [
       "<div>\n",
       "<style scoped>\n",
       "    .dataframe tbody tr th:only-of-type {\n",
       "        vertical-align: middle;\n",
       "    }\n",
       "\n",
       "    .dataframe tbody tr th {\n",
       "        vertical-align: top;\n",
       "    }\n",
       "\n",
       "    .dataframe thead th {\n",
       "        text-align: right;\n",
       "    }\n",
       "</style>\n",
       "<table border=\"1\" class=\"dataframe\">\n",
       "  <thead>\n",
       "    <tr style=\"text-align: right;\">\n",
       "      <th></th>\n",
       "      <th>exceedance</th>\n",
       "      <th>datetime</th>\n",
       "      <th>lat</th>\n",
       "      <th>lon</th>\n",
       "      <th>temperature</th>\n",
       "      <th>precipitation</th>\n",
       "      <th>wind speed</th>\n",
       "    </tr>\n",
       "  </thead>\n",
       "  <tbody>\n",
       "    <tr>\n",
       "      <th>0</th>\n",
       "      <td>6</td>\n",
       "      <td>2018-01-01 00:00:29</td>\n",
       "      <td>50.951697</td>\n",
       "      <td>6.981953</td>\n",
       "      <td>7.4</td>\n",
       "      <td>0.8</td>\n",
       "      <td>28.4</td>\n",
       "    </tr>\n",
       "    <tr>\n",
       "      <th>1</th>\n",
       "      <td>17</td>\n",
       "      <td>2018-01-01 00:01:11</td>\n",
       "      <td>50.947906</td>\n",
       "      <td>6.941059</td>\n",
       "      <td>7.4</td>\n",
       "      <td>0.8</td>\n",
       "      <td>28.4</td>\n",
       "    </tr>\n",
       "    <tr>\n",
       "      <th>2</th>\n",
       "      <td>6</td>\n",
       "      <td>2018-01-01 00:06:44</td>\n",
       "      <td>50.951697</td>\n",
       "      <td>6.981953</td>\n",
       "      <td>7.4</td>\n",
       "      <td>0.8</td>\n",
       "      <td>28.4</td>\n",
       "    </tr>\n",
       "    <tr>\n",
       "      <th>3</th>\n",
       "      <td>8</td>\n",
       "      <td>2018-01-01 00:08:34</td>\n",
       "      <td>50.936374</td>\n",
       "      <td>6.935985</td>\n",
       "      <td>7.4</td>\n",
       "      <td>0.8</td>\n",
       "      <td>28.4</td>\n",
       "    </tr>\n",
       "    <tr>\n",
       "      <th>4</th>\n",
       "      <td>21</td>\n",
       "      <td>2018-01-01 00:12:08</td>\n",
       "      <td>50.947906</td>\n",
       "      <td>6.941059</td>\n",
       "      <td>7.4</td>\n",
       "      <td>0.8</td>\n",
       "      <td>28.4</td>\n",
       "    </tr>\n",
       "    <tr>\n",
       "      <th>5</th>\n",
       "      <td>9</td>\n",
       "      <td>2018-01-01 00:14:17</td>\n",
       "      <td>50.947906</td>\n",
       "      <td>6.941059</td>\n",
       "      <td>7.4</td>\n",
       "      <td>0.8</td>\n",
       "      <td>28.4</td>\n",
       "    </tr>\n",
       "    <tr>\n",
       "      <th>6</th>\n",
       "      <td>16</td>\n",
       "      <td>2018-01-01 00:19:01</td>\n",
       "      <td>50.947906</td>\n",
       "      <td>6.941059</td>\n",
       "      <td>7.4</td>\n",
       "      <td>0.8</td>\n",
       "      <td>28.4</td>\n",
       "    </tr>\n",
       "    <tr>\n",
       "      <th>7</th>\n",
       "      <td>12</td>\n",
       "      <td>2018-01-01 00:20:21</td>\n",
       "      <td>50.936374</td>\n",
       "      <td>6.935985</td>\n",
       "      <td>7.4</td>\n",
       "      <td>0.8</td>\n",
       "      <td>28.4</td>\n",
       "    </tr>\n",
       "    <tr>\n",
       "      <th>8</th>\n",
       "      <td>52</td>\n",
       "      <td>2018-01-01 00:20:45</td>\n",
       "      <td>50.947906</td>\n",
       "      <td>6.941059</td>\n",
       "      <td>7.4</td>\n",
       "      <td>0.8</td>\n",
       "      <td>28.4</td>\n",
       "    </tr>\n",
       "    <tr>\n",
       "      <th>9</th>\n",
       "      <td>6</td>\n",
       "      <td>2018-01-01 00:21:11</td>\n",
       "      <td>50.947906</td>\n",
       "      <td>6.941059</td>\n",
       "      <td>7.4</td>\n",
       "      <td>0.8</td>\n",
       "      <td>28.4</td>\n",
       "    </tr>\n",
       "  </tbody>\n",
       "</table>\n",
       "</div>"
      ],
      "text/plain": [
       "  exceedance            datetime        lat       lon  temperature   \n",
       "0          6 2018-01-01 00:00:29  50.951697  6.981953          7.4  \\\n",
       "1         17 2018-01-01 00:01:11  50.947906  6.941059          7.4   \n",
       "2          6 2018-01-01 00:06:44  50.951697  6.981953          7.4   \n",
       "3          8 2018-01-01 00:08:34  50.936374  6.935985          7.4   \n",
       "4         21 2018-01-01 00:12:08  50.947906  6.941059          7.4   \n",
       "5          9 2018-01-01 00:14:17  50.947906  6.941059          7.4   \n",
       "6         16 2018-01-01 00:19:01  50.947906  6.941059          7.4   \n",
       "7         12 2018-01-01 00:20:21  50.936374  6.935985          7.4   \n",
       "8         52 2018-01-01 00:20:45  50.947906  6.941059          7.4   \n",
       "9          6 2018-01-01 00:21:11  50.947906  6.941059          7.4   \n",
       "\n",
       "   precipitation  wind speed  \n",
       "0            0.8        28.4  \n",
       "1            0.8        28.4  \n",
       "2            0.8        28.4  \n",
       "3            0.8        28.4  \n",
       "4            0.8        28.4  \n",
       "5            0.8        28.4  \n",
       "6            0.8        28.4  \n",
       "7            0.8        28.4  \n",
       "8            0.8        28.4  \n",
       "9            0.8        28.4  "
      ]
     },
     "execution_count": 3,
     "metadata": {},
     "output_type": "execute_result"
    }
   ],
   "source": [
    "df.head(10)"
   ]
  },
  {
   "attachments": {},
   "cell_type": "markdown",
   "metadata": {},
   "source": [
    "### Data exploration\n",
    "To get a first impression of the data, I executed Pandas [`describe`](https://pandas.pydata.org/docs/reference/api/pandas.DataFrame.describe.html) function on the dataset. The output can be seen below."
   ]
  },
  {
   "cell_type": "code",
   "execution_count": 7,
   "metadata": {},
   "outputs": [
    {
     "data": {
      "text/html": [
       "<div>\n",
       "<style scoped>\n",
       "    .dataframe tbody tr th:only-of-type {\n",
       "        vertical-align: middle;\n",
       "    }\n",
       "\n",
       "    .dataframe tbody tr th {\n",
       "        vertical-align: top;\n",
       "    }\n",
       "\n",
       "    .dataframe thead th {\n",
       "        text-align: right;\n",
       "    }\n",
       "</style>\n",
       "<table border=\"1\" class=\"dataframe\">\n",
       "  <thead>\n",
       "    <tr style=\"text-align: right;\">\n",
       "      <th></th>\n",
       "      <th>datetime</th>\n",
       "      <th>lat</th>\n",
       "      <th>lon</th>\n",
       "      <th>temperature</th>\n",
       "      <th>precipitation</th>\n",
       "      <th>wind speed</th>\n",
       "    </tr>\n",
       "  </thead>\n",
       "  <tbody>\n",
       "    <tr>\n",
       "      <th>count</th>\n",
       "      <td>665635</td>\n",
       "      <td>665635.000000</td>\n",
       "      <td>665635.000000</td>\n",
       "      <td>665635.000000</td>\n",
       "      <td>665635.000000</td>\n",
       "      <td>662923.000000</td>\n",
       "    </tr>\n",
       "    <tr>\n",
       "      <th>mean</th>\n",
       "      <td>2019-08-11 14:11:30.047725824</td>\n",
       "      <td>50.952222</td>\n",
       "      <td>6.950637</td>\n",
       "      <td>13.105690</td>\n",
       "      <td>0.086298</td>\n",
       "      <td>12.980099</td>\n",
       "    </tr>\n",
       "    <tr>\n",
       "      <th>min</th>\n",
       "      <td>2018-01-01 00:00:29</td>\n",
       "      <td>50.849154</td>\n",
       "      <td>6.846078</td>\n",
       "      <td>-11.900000</td>\n",
       "      <td>0.000000</td>\n",
       "      <td>0.000000</td>\n",
       "    </tr>\n",
       "    <tr>\n",
       "      <th>25%</th>\n",
       "      <td>2018-10-02 20:00:20</td>\n",
       "      <td>50.947906</td>\n",
       "      <td>6.941059</td>\n",
       "      <td>6.900000</td>\n",
       "      <td>0.000000</td>\n",
       "      <td>7.900000</td>\n",
       "    </tr>\n",
       "    <tr>\n",
       "      <th>50%</th>\n",
       "      <td>2019-05-12 07:37:09</td>\n",
       "      <td>50.947906</td>\n",
       "      <td>6.941059</td>\n",
       "      <td>12.300000</td>\n",
       "      <td>0.000000</td>\n",
       "      <td>11.900000</td>\n",
       "    </tr>\n",
       "    <tr>\n",
       "      <th>75%</th>\n",
       "      <td>2020-05-25 12:51:20</td>\n",
       "      <td>50.951697</td>\n",
       "      <td>6.976871</td>\n",
       "      <td>18.900000</td>\n",
       "      <td>0.000000</td>\n",
       "      <td>16.900000</td>\n",
       "    </tr>\n",
       "    <tr>\n",
       "      <th>max</th>\n",
       "      <td>2021-12-31 23:57:25</td>\n",
       "      <td>51.046593</td>\n",
       "      <td>7.085497</td>\n",
       "      <td>40.800000</td>\n",
       "      <td>32.700000</td>\n",
       "      <td>72.000000</td>\n",
       "    </tr>\n",
       "    <tr>\n",
       "      <th>std</th>\n",
       "      <td>NaN</td>\n",
       "      <td>0.024807</td>\n",
       "      <td>0.034965</td>\n",
       "      <td>7.827018</td>\n",
       "      <td>0.522428</td>\n",
       "      <td>6.646244</td>\n",
       "    </tr>\n",
       "  </tbody>\n",
       "</table>\n",
       "</div>"
      ],
      "text/plain": [
       "                            datetime            lat            lon   \n",
       "count                         665635  665635.000000  665635.000000  \\\n",
       "mean   2019-08-11 14:11:30.047725824      50.952222       6.950637   \n",
       "min              2018-01-01 00:00:29      50.849154       6.846078   \n",
       "25%              2018-10-02 20:00:20      50.947906       6.941059   \n",
       "50%              2019-05-12 07:37:09      50.947906       6.941059   \n",
       "75%              2020-05-25 12:51:20      50.951697       6.976871   \n",
       "max              2021-12-31 23:57:25      51.046593       7.085497   \n",
       "std                              NaN       0.024807       0.034965   \n",
       "\n",
       "         temperature  precipitation     wind speed  \n",
       "count  665635.000000  665635.000000  662923.000000  \n",
       "mean       13.105690       0.086298      12.980099  \n",
       "min       -11.900000       0.000000       0.000000  \n",
       "25%         6.900000       0.000000       7.900000  \n",
       "50%        12.300000       0.000000      11.900000  \n",
       "75%        18.900000       0.000000      16.900000  \n",
       "max        40.800000      32.700000      72.000000  \n",
       "std         7.827018       0.522428       6.646244  "
      ]
     },
     "execution_count": 7,
     "metadata": {},
     "output_type": "execute_result"
    }
   ],
   "source": [
    "df.describe()"
   ]
  },
  {
   "attachments": {},
   "cell_type": "markdown",
   "metadata": {},
   "source": [
    "## Correlations\n",
    "To find correlations, firstly I calculated the Pearson correlation coefficient between the weather data and the speeding offenses.\n",
    "\n",
    "### Pearson correlation coefficient\n",
    "Calculating the pearson correlation coefficient for the exceedance columns and the temperature, precipitation and wind speed columns\n"
   ]
  },
  {
   "cell_type": "code",
   "execution_count": 25,
   "metadata": {},
   "outputs": [
    {
     "data": {
      "text/plain": [
       "0.025064393831251693"
      ]
     },
     "execution_count": 25,
     "metadata": {},
     "output_type": "execute_result"
    }
   ],
   "source": [
    "df['exceedance'].corr(df['temperature'], method='pearson')\n"
   ]
  },
  {
   "cell_type": "code",
   "execution_count": 24,
   "metadata": {},
   "outputs": [
    {
     "data": {
      "text/plain": [
       "-0.014784174460152422"
      ]
     },
     "execution_count": 24,
     "metadata": {},
     "output_type": "execute_result"
    }
   ],
   "source": [
    "df['exceedance'].corr(df['precipitation'], method='pearson')"
   ]
  },
  {
   "cell_type": "code",
   "execution_count": 26,
   "metadata": {},
   "outputs": [
    {
     "data": {
      "text/plain": [
       "0.0038510883940356634"
      ]
     },
     "execution_count": 26,
     "metadata": {},
     "output_type": "execute_result"
    }
   ],
   "source": [
    "df['exceedance'].corr(df['wind speed'], method='pearson')"
   ]
  },
  {
   "attachments": {},
   "cell_type": "markdown",
   "metadata": {},
   "source": [
    "All of the above values are rather low and don't indicate a correlation between the weather and the speeding offenses. So up next I tried to find a correlation between the weather and the speeding offenses by counting the number of offenses per weather condition."
   ]
  },
  {
   "attachments": {},
   "cell_type": "markdown",
   "metadata": {},
   "source": [
    "### Counting offenses per weather condition\n",
    "In this section I counted the number of offenses per weather condition. The weather conditions are grouped into 6 categories, each representing an interval of the temperature, precipitation and wind speed values. The categories are:\n",
    "\n",
    "- `cold`: temperature < 5°C\n",
    "- `warm`: temperature >= 25°C\n",
    "- `dry`: precipitation < 0.5mm\n",
    "- `wet`: precipitation >= 2mm\n",
    "- `calm`: wind speed < 5km/h\n",
    "- `windy`: wind speed >= 25km/h"
   ]
  },
  {
   "cell_type": "code",
   "execution_count": 45,
   "metadata": {},
   "outputs": [
    {
     "name": "stdout",
     "output_type": "stream",
     "text": [
      "Percentage of exceedances at cold temperatures: 15.14073028010847%\n",
      "Percentage of exceedances at warm temperatures: 7.800521306722152%\n",
      "Percentage of exceedances at dry weather: 95.25881301313784%\n",
      "Percentage of exceedances at wet weather: 1.0043041606886656%\n",
      "Percentage of exceedances at calm weather: 7.340058740901545%\n",
      "Percentage of exceedances at windy weather: 14.99365267751846%\n"
     ]
    }
   ],
   "source": [
    "all = len(df)\n",
    "count_cold = len(df[(df['temperature'] < 5)])\n",
    "print('Percentage of exceedances at cold temperatures: ' + str(count_cold / all * 100) + '%')\n",
    "\n",
    "count_warm = len(df[(df['temperature'] >= 25)])\n",
    "print('Percentage of exceedances at warm temperatures: ' + str(count_warm / all * 100) + '%')\n",
    "\n",
    "count_dry = len(df[(df['precipitation'] < 0.5)])\n",
    "print('Percentage of exceedances at dry weather: ' + str(count_dry / all * 100) + '%')\n",
    "\n",
    "count_wet = len(df[(df['precipitation'] >= 2)])\n",
    "print('Percentage of exceedances at wet weather: ' + str(count_wet / all * 100) + '%')\n",
    "\n",
    "count_calm = len(df[(df['wind speed'] < 5)])\n",
    "print('Percentage of exceedances at calm weather: ' + str(count_calm / all * 100) + '%')\n",
    "\n",
    "count_windy = len(df[(df['wind speed'] >= 20)])\n",
    "print('Percentage of exceedances at windy weather: ' + str(count_windy / all * 100) + '%')"
   ]
  },
  {
   "attachments": {},
   "cell_type": "markdown",
   "metadata": {},
   "source": [
    "The above results shows that with 95% almost all offenses happen in the `dry` category. This is not surprising since the weather in cologne is mostly dry. So I tried to find a correlation between the weather and the speeding offenses by counting the number of offenses per weather condition in relation to the number of days with that weather condition."
   ]
  },
  {
   "attachments": {},
   "cell_type": "markdown",
   "metadata": {},
   "source": [
    "### Counting offenses per weather condition in relation to the number of days with that weather condition\n",
    "\n",
    "To find a more meaningful relation between the weather and the speeding offenses I counted the number of offenses per weather condition in relation to the number of days with that weather condition"
   ]
  },
  {
   "cell_type": "code",
   "execution_count": 47,
   "metadata": {},
   "outputs": [
    {
     "name": "stdout",
     "output_type": "stream",
     "text": [
      "Percentage of offenses at cold temperatures: 5.793693318251275%\n",
      "Percentage of offenses at warm temperatures: 3.670820253067041%\n",
      "Percentage of offenses at dry weather: 5.269399882663907%\n",
      "Percentage of offenses at wet weather: 4.637247569184742%\n",
      "Percentage of offenses at calm weather: 6.359245159441647%\n",
      "Percentage of offenses at windy weather: 4.315501538029919%\n"
     ]
    }
   ],
   "source": [
    "# count number of days in cologne with percipation below 0.5mm\n",
    "from meteostat import Point, Hourly\n",
    "from datetime import datetime\n",
    "\n",
    "start = datetime(2017, 1, 1)\n",
    "end = datetime(2020, 12, 31)\n",
    "\n",
    "cologne = Point(50.9381, 6.9569)\n",
    "data = Hourly(cologne, start, end)\n",
    "data = data.fetch()\n",
    "\n",
    "count_cold_hours = len(data[(data['temp'] < 5)])\n",
    "count_warm_hours = len(data[(data['temp'] >= 25)])\n",
    "count_dry_hours = len(data[(data['prcp'] < 0.5)])\n",
    "count_wet_hours = len(data[(data['prcp'] >= 2)])\n",
    "count_calm_hours = len(data[(data['wspd'] < 5)])\n",
    "count_windy_hours = len(data[(data['wspd'] >= 20)])\n",
    "\n",
    "print('Percentage of offenses at cold temperatures: ' + str(count_cold_hours / count_cold * 100) + '%')\n",
    "print('Percentage of offenses at warm temperatures: ' + str(count_warm_hours / count_warm * 100) + '%')\n",
    "print('Percentage of offenses at dry weather: ' + str(count_dry_hours / count_dry * 100) + '%')\n",
    "print('Percentage of offenses at wet weather: ' + str(count_wet_hours / count_wet * 100) + '%')\n",
    "print('Percentage of offenses at calm weather: ' + str(count_calm_hours / count_calm * 100) + '%')\n",
    "print('Percentage of offenses at windy weather: ' + str(count_windy_hours / count_windy * 100) + '%')"
   ]
  },
  {
   "attachments": {},
   "cell_type": "markdown",
   "metadata": {},
   "source": [
    "These results do not show any significant difference between the `dry` and `wet` categories anymore and neither reveal any other correlation between the weather and the speeding offenses. This indicates that the `dry` category is overrepresented in the data and that the weather does not have a significant influence on the speeding offenses."
   ]
  }
 ],
 "metadata": {
  "kernelspec": {
   "display_name": "Python 3",
   "language": "python",
   "name": "python3"
  },
  "language_info": {
   "codemirror_mode": {
    "name": "ipython",
    "version": 3
   },
   "file_extension": ".py",
   "mimetype": "text/x-python",
   "name": "python",
   "nbconvert_exporter": "python",
   "pygments_lexer": "ipython3",
   "version": "3.10.6"
  },
  "orig_nbformat": 4
 },
 "nbformat": 4,
 "nbformat_minor": 2
}
