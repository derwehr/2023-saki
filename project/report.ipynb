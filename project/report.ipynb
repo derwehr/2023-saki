{
 "cells": [
  {
   "attachments": {},
   "cell_type": "markdown",
   "metadata": {},
   "source": [
    "# Correlations between speeding offenses and weather conditions\n",
    "\n",
    "The idea of this project was to try to find correlations between speeding offenses and weather conditions. The steps below describe how I tried to achieve this."
   ]
  },
  {
   "attachments": {},
   "cell_type": "markdown",
   "metadata": {},
   "source": [
    "## Install dependencies\n",
    "Initially, install all required dependencies."
   ]
  },
  {
   "cell_type": "code",
   "execution_count": 3,
   "metadata": {},
   "outputs": [
    {
     "name": "stdout",
     "output_type": "stream",
     "text": [
      "Defaulting to user installation because normal site-packages is not writeable\n",
      "Requirement already satisfied: geocoder==1.38.1 in /home/wehr/.local/lib/python3.10/site-packages (from -r requirements.txt (line 1)) (1.38.1)\n",
      "Requirement already satisfied: meteostat==1.6.5 in /home/wehr/.local/lib/python3.10/site-packages (from -r requirements.txt (line 2)) (1.6.5)\n",
      "Requirement already satisfied: numpy==1.23.2 in /home/wehr/.local/lib/python3.10/site-packages (from -r requirements.txt (line 3)) (1.23.2)\n",
      "Requirement already satisfied: pandas==2.0.2 in /home/wehr/.local/lib/python3.10/site-packages (from -r requirements.txt (line 4)) (2.0.2)\n",
      "Requirement already satisfied: pytest==7.3.1 in /home/wehr/.local/lib/python3.10/site-packages (from -r requirements.txt (line 5)) (7.3.1)\n",
      "Requirement already satisfied: requests_cache==1.0.1 in /home/wehr/.local/lib/python3.10/site-packages (from -r requirements.txt (line 6)) (1.0.1)\n",
      "Requirement already satisfied: SQLAlchemy==2.0.15 in /home/wehr/.local/lib/python3.10/site-packages (from -r requirements.txt (line 7)) (2.0.15)\n",
      "Requirement already satisfied: future in /usr/lib/python3/dist-packages (from geocoder==1.38.1->-r requirements.txt (line 1)) (0.18.2)\n",
      "Requirement already satisfied: requests in /usr/lib/python3/dist-packages (from geocoder==1.38.1->-r requirements.txt (line 1)) (2.25.1)\n",
      "Requirement already satisfied: click in /usr/lib/python3/dist-packages (from geocoder==1.38.1->-r requirements.txt (line 1)) (8.0.3)\n",
      "Requirement already satisfied: ratelim in /home/wehr/.local/lib/python3.10/site-packages (from geocoder==1.38.1->-r requirements.txt (line 1)) (0.1.6)\n",
      "Requirement already satisfied: six in /home/wehr/.local/lib/python3.10/site-packages (from geocoder==1.38.1->-r requirements.txt (line 1)) (1.16.0)\n",
      "Requirement already satisfied: pytz in /usr/lib/python3/dist-packages (from meteostat==1.6.5->-r requirements.txt (line 2)) (2022.1)\n",
      "Requirement already satisfied: python-dateutil>=2.8.2 in /home/wehr/.local/lib/python3.10/site-packages (from pandas==2.0.2->-r requirements.txt (line 4)) (2.8.2)\n",
      "Requirement already satisfied: tzdata>=2022.1 in /home/wehr/.local/lib/python3.10/site-packages (from pandas==2.0.2->-r requirements.txt (line 4)) (2023.3)\n",
      "Requirement already satisfied: iniconfig in /home/wehr/.local/lib/python3.10/site-packages (from pytest==7.3.1->-r requirements.txt (line 5)) (2.0.0)\n",
      "Requirement already satisfied: pluggy<2.0,>=0.12 in /home/wehr/.local/lib/python3.10/site-packages (from pytest==7.3.1->-r requirements.txt (line 5)) (1.0.0)\n",
      "Requirement already satisfied: packaging in /home/wehr/.local/lib/python3.10/site-packages (from pytest==7.3.1->-r requirements.txt (line 5)) (23.1)\n",
      "Requirement already satisfied: exceptiongroup>=1.0.0rc8 in /home/wehr/.local/lib/python3.10/site-packages (from pytest==7.3.1->-r requirements.txt (line 5)) (1.1.1)\n",
      "Requirement already satisfied: tomli>=1.0.0 in /home/wehr/.local/lib/python3.10/site-packages (from pytest==7.3.1->-r requirements.txt (line 5)) (2.0.1)\n",
      "Requirement already satisfied: cattrs>=22.2 in /home/wehr/.local/lib/python3.10/site-packages (from requests_cache==1.0.1->-r requirements.txt (line 6)) (22.2.0)\n",
      "Requirement already satisfied: attrs>=21.2 in /usr/lib/python3/dist-packages (from requests_cache==1.0.1->-r requirements.txt (line 6)) (21.2.0)\n",
      "Requirement already satisfied: platformdirs>=2.5 in /home/wehr/.local/lib/python3.10/site-packages (from requests_cache==1.0.1->-r requirements.txt (line 6)) (3.5.1)\n",
      "Requirement already satisfied: urllib3>=1.25.5 in /usr/lib/python3/dist-packages (from requests_cache==1.0.1->-r requirements.txt (line 6)) (1.26.5)\n",
      "Requirement already satisfied: url-normalize>=1.4 in /home/wehr/.local/lib/python3.10/site-packages (from requests_cache==1.0.1->-r requirements.txt (line 6)) (1.4.3)\n",
      "Requirement already satisfied: greenlet!=0.4.17 in /home/wehr/.local/lib/python3.10/site-packages (from SQLAlchemy==2.0.15->-r requirements.txt (line 7)) (2.0.2)\n",
      "Requirement already satisfied: typing-extensions>=4.2.0 in /home/wehr/.local/lib/python3.10/site-packages (from SQLAlchemy==2.0.15->-r requirements.txt (line 7)) (4.5.0)\n",
      "Requirement already satisfied: decorator in /home/wehr/.local/lib/python3.10/site-packages (from ratelim->geocoder==1.38.1->-r requirements.txt (line 1)) (5.1.1)\n",
      "Note: you may need to restart the kernel to use updated packages.\n",
      "Defaulting to user installation because normal site-packages is not writeable\n",
      "Requirement already satisfied: matplotlib in /home/wehr/.local/lib/python3.10/site-packages (3.7.1)\n",
      "Requirement already satisfied: numpy>=1.20 in /home/wehr/.local/lib/python3.10/site-packages (from matplotlib) (1.23.2)\n",
      "Requirement already satisfied: cycler>=0.10 in /home/wehr/.local/lib/python3.10/site-packages (from matplotlib) (0.11.0)\n",
      "Requirement already satisfied: python-dateutil>=2.7 in /home/wehr/.local/lib/python3.10/site-packages (from matplotlib) (2.8.2)\n",
      "Requirement already satisfied: pillow>=6.2.0 in /usr/lib/python3/dist-packages (from matplotlib) (9.0.1)\n",
      "Requirement already satisfied: packaging>=20.0 in /home/wehr/.local/lib/python3.10/site-packages (from matplotlib) (23.1)\n",
      "Requirement already satisfied: fonttools>=4.22.0 in /home/wehr/.local/lib/python3.10/site-packages (from matplotlib) (4.39.4)\n",
      "Requirement already satisfied: kiwisolver>=1.0.1 in /home/wehr/.local/lib/python3.10/site-packages (from matplotlib) (1.4.4)\n",
      "Requirement already satisfied: contourpy>=1.0.1 in /home/wehr/.local/lib/python3.10/site-packages (from matplotlib) (1.0.7)\n",
      "Requirement already satisfied: pyparsing>=2.3.1 in /usr/lib/python3/dist-packages (from matplotlib) (2.4.7)\n",
      "Requirement already satisfied: six>=1.5 in /home/wehr/.local/lib/python3.10/site-packages (from python-dateutil>=2.7->matplotlib) (1.16.0)\n",
      "Note: you may need to restart the kernel to use updated packages.\n"
     ]
    }
   ],
   "source": [
    "%pip install -r requirements.txt\n",
    "%pip install matplotlib"
   ]
  },
  {
   "attachments": {},
   "cell_type": "markdown",
   "metadata": {},
   "source": [
    "## Load data\n",
    "Create a pandas dataframe using the local sqlite file."
   ]
  },
  {
   "cell_type": "code",
   "execution_count": 4,
   "metadata": {},
   "outputs": [],
   "source": [
    "import pandas as pd\n",
    "\n",
    "df = pd.read_sql_table('offenses', 'sqlite:///data/data.sqlite')"
   ]
  },
  {
   "attachments": {},
   "cell_type": "markdown",
   "metadata": {},
   "source": [
    "## Correlations\n",
    "To find correlations, firstly I calculated the Pearson correlation coefficient between the weather data and the speeding offenses. Afterwards, I grouped the weather conditions into 6 categories and counted the number of speeding offenses for each category. Lastly I counted the number of speeding offenses for each weather condition in relation to the number of days with that weather condition.\n",
    "\n",
    "### Pearson correlation coefficient\n",
    "This section show how I calculated the Pearson correlation coefficient and presents and discusses the results.\n",
    "\n",
    "Below is how I Calculated the pearson correlation coefficient for the exceedance columns with the temperature, precipitation and wind speed columns"
   ]
  },
  {
   "cell_type": "code",
   "execution_count": 6,
   "metadata": {},
   "outputs": [
    {
     "data": {
      "text/plain": [
       "0.025065619815280923"
      ]
     },
     "execution_count": 8,
     "metadata": {},
     "output_type": "execute_result"
    }
   ],
   "source": [
    "df['exceedance'].corr(df['temperature'], method='pearson')"
   ]
  },
  {
   "cell_type": "code",
   "execution_count": null,
   "metadata": {},
   "outputs": [
    {
     "data": {
      "text/plain": [
       "-0.014784174460152422"
      ]
     },
     "metadata": {},
     "output_type": "display_data"
    }
   ],
   "source": [
    "df['exceedance'].corr(df['precipitation'], method='pearson')"
   ]
  },
  {
   "cell_type": "code",
   "execution_count": null,
   "metadata": {},
   "outputs": [
    {
     "data": {
      "text/plain": [
       "0.0038510883940356634"
      ]
     },
     "metadata": {},
     "output_type": "display_data"
    }
   ],
   "source": [
    "df['exceedance'].corr(df['wind speed'], method='pearson')"
   ]
  },
  {
   "attachments": {},
   "cell_type": "markdown",
   "metadata": {},
   "source": [
    "All of the above values are rather low and don't indicate a correlation between the weather and the speeding offenses. So up next I tried to find a correlation between the weather and the speeding offenses by counting the number of offenses per weather condition."
   ]
  },
  {
   "attachments": {},
   "cell_type": "markdown",
   "metadata": {},
   "source": [
    "### Counting offenses per weather condition\n",
    "In this section I counted the number of offenses per weather condition. The weather conditions are grouped into 6 categories, each representing an interval of the temperature, precipitation and wind speed values. The categories are:\n",
    "\n",
    "- `cold`: temperature < 5°C\n",
    "- `warm`: temperature >= 25°C\n",
    "- `dry`: precipitation < 0.5mm\n",
    "- `wet`: precipitation >= 2mm\n",
    "- `calm`: wind speed < 5km/h\n",
    "- `windy`: wind speed >= 25km/h"
   ]
  },
  {
   "cell_type": "code",
   "execution_count": 16,
   "metadata": {},
   "outputs": [
    {
     "name": "stdout",
     "output_type": "stream",
     "text": [
      "100782\n",
      "Percentage of exceedances at cold temperatures: 15.14073028010847%\n",
      "51923\n",
      "Percentage of exceedances at warm temperatures: 7.800521306722152%\n",
      "634076\n",
      "Percentage of exceedances at dry weather: 95.25881301313784%\n",
      "6685\n",
      "Percentage of exceedances at wet weather: 1.0043041606886656%\n",
      "48858\n",
      "Percentage of exceedances at calm weather: 7.340058740901545%\n",
      "99803\n",
      "Percentage of exceedances at windy weather: 14.99365267751846%\n"
     ]
    },
    {
     "data": {
      "image/png": "[encoded data removed]",
      "text/plain": [
       "<Figure size 640x480 with 1 Axes>"
      ]
     },
     "metadata": {},
     "output_type": "display_data"
    }
   ],
   "source": [
    "import matplotlib.pyplot as plt\n",
    "\n",
    "all = len(df)\n",
    "count_cold = len(df[(df['temperature'] < 5)])\n",
    "print(count_cold)\n",
    "print('Percentage of exceedances at cold temperatures: ' + str(count_cold / all * 100) + '%')\n",
    "\n",
    "count_warm = len(df[(df['temperature'] >= 25)])\n",
    "print(count_warm)\n",
    "print('Percentage of exceedances at warm temperatures: ' + str(count_warm / all * 100) + '%')\n",
    "\n",
    "count_dry = len(df[(df['precipitation'] < 0.5)])\n",
    "print(count_dry)\n",
    "print('Percentage of exceedances at dry weather: ' + str(count_dry / all * 100) + '%')\n",
    "\n",
    "count_wet = len(df[(df['precipitation'] >= 2)])\n",
    "print(count_wet)\n",
    "print('Percentage of exceedances at wet weather: ' + str(count_wet / all * 100) + '%')\n",
    "\n",
    "count_calm = len(df[(df['wind speed'] < 5)])\n",
    "print(count_calm)\n",
    "print('Percentage of exceedances at calm weather: ' + str(count_calm / all * 100) + '%')\n",
    "\n",
    "count_windy = len(df[(df['wind speed'] >= 20)])\n",
    "print(count_windy)\n",
    "print('Percentage of exceedances at windy weather: ' + str(count_windy / all * 100) + '%')\n",
    "\n",
    "# plot number of offenses per category\n",
    "labels = ['Cold', 'Warm', 'Dry', 'Wet', 'Calm', 'Windy']\n",
    "values = [count_cold, count_warm, count_dry, count_wet, count_calm, count_windy]\n",
    "\n",
    "plt.bar(labels, values)\n",
    "plt.title('Number of offenses per category')\n",
    "plt.xlabel('Category')\n",
    "plt.ylabel('Number of offenses')\n",
    "plt.show()\n",
    "\n",
    "\n"
   ]
  },
  {
   "attachments": {},
   "cell_type": "markdown",
   "metadata": {},
   "source": [
    "The above results shows that with 95% almost all offenses happen in the `dry` category. This is not surprising since the weather in cologne is mostly dry. So I tried to find a correlation between the weather and the speeding offenses by counting the number of offenses per weather condition in relation to the number of days with that weather condition."
   ]
  },
  {
   "attachments": {},
   "cell_type": "markdown",
   "metadata": {},
   "source": [
    "### Counting offenses per weather condition in relation to the number of days with that weather condition\n",
    "\n",
    "To find a more meaningful relation between the weather and the speeding offenses I counted the number of offenses per weather condition in relation to the number of days with that weather condition"
   ]
  },
  {
   "cell_type": "code",
   "execution_count": 15,
   "metadata": {},
   "outputs": [
    {
     "name": "stdout",
     "output_type": "stream",
     "text": [
      "Percentage of offenses at cold temperatures: 5.793693318251275%\n",
      "Percentage of offenses at warm temperatures: 3.670820253067041%\n",
      "Percentage of offenses at dry weather: 5.269399882663907%\n",
      "Percentage of offenses at wet weather: 4.637247569184742%\n",
      "Percentage of offenses at calm weather: 6.359245159441647%\n",
      "Percentage of offenses at windy weather: 4.315501538029919%\n"
     ]
    },
    {
     "data": {
      "image/png": "[encoded data removed]",
      "text/plain": [
       "<Figure size 640x480 with 1 Axes>"
      ]
     },
     "metadata": {},
     "output_type": "display_data"
    }
   ],
   "source": [
    "import matplotlib.pyplot as plt\n",
    "\n",
    "# count number of days in cologne with percipation below 0.5mm\n",
    "from meteostat import Point, Hourly\n",
    "from datetime import datetime\n",
    "\n",
    "start = datetime(2017, 1, 1)\n",
    "end = datetime(2020, 12, 31)\n",
    "\n",
    "cologne = Point(50.9381, 6.9569)\n",
    "data = Hourly(cologne, start, end)\n",
    "data = data.fetch()\n",
    "\n",
    "count_cold_hours = len(data[(data['temp'] < 5)])\n",
    "count_warm_hours = len(data[(data['temp'] >= 25)])\n",
    "count_dry_hours = len(data[(data['prcp'] < 0.5)])\n",
    "count_wet_hours = len(data[(data['prcp'] >= 2)])\n",
    "count_calm_hours = len(data[(data['wspd'] < 5)])\n",
    "count_windy_hours = len(data[(data['wspd'] >= 20)])\n",
    "\n",
    "rel_cold = count_cold_hours / count_cold * 100\n",
    "rel_warm = count_warm_hours / count_warm * 100\n",
    "rel_dry = count_dry_hours / count_dry * 100\n",
    "rel_wet = count_wet_hours / count_wet * 100\n",
    "rel_calm = count_calm_hours / count_calm * 100\n",
    "rel_windy = count_windy_hours / count_windy * 100\n",
    "\n",
    "print('Percentage of offenses at cold temperatures: ' + str(rel_cold) + '%')\n",
    "print('Percentage of offenses at warm temperatures: ' + str(rel_warm) + '%')\n",
    "print('Percentage of offenses at dry weather: ' + str(rel_dry) + '%')\n",
    "print('Percentage of offenses at wet weather: ' + str(rel_wet) + '%')\n",
    "print('Percentage of offenses at calm weather: ' + str(rel_calm) + '%')\n",
    "print('Percentage of offenses at windy weather: ' + str(rel_windy) + '%')\n",
    "\n",
    "# plot number of offenses per category in relation to the number of days with the same weather\n",
    "labels = ['Cold', 'Warm', 'Dry', 'Wet', 'Calm', 'Windy']\n",
    "values = [rel_cold, rel_warm, rel_dry, rel_wet, rel_calm, rel_windy]\n",
    "\n",
    "plt.bar(labels, values)\n",
    "plt.title('Relative number of offenses per category')\n",
    "plt.xlabel('Category')\n",
    "plt.ylabel('Relative number of offenses')\n",
    "plt.show()"
   ]
  },
  {
   "attachments": {},
   "cell_type": "markdown",
   "metadata": {},
   "source": [
    "These results do not show any significant difference between the `dry` and `wet` categories anymore and neither reveal any other correlation between the weather and the speeding offenses. This indicates that the `dry` category is overrepresented in the data and that none of the weather conditions examined above have a significant influence on the number of speeding offenses."
   ]
  }
 ],
 "metadata": {
  "kernelspec": {
   "display_name": "env",
   "language": "python",
   "name": "python3"
  },
  "language_info": {
   "codemirror_mode": {
    "name": "ipython",
    "version": 3
   },
   "file_extension": ".py",
   "mimetype": "text/x-python",
   "name": "python",
   "nbconvert_exporter": "python",
   "pygments_lexer": "ipython3",
   "version": "3.10.6"
  },
  "orig_nbformat": 4
 },
 "nbformat": 4,
 "nbformat_minor": 2
}
